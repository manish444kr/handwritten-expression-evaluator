{
 "cells": [
  {
   "cell_type": "code",
   "execution_count": 89,
   "metadata": {
    "colab": {},
    "colab_type": "code",
    "id": "NnlISpPZiDfI",
    "outputId": "656d8a9b-219e-463c-e124-4acd81e249cc"
   },
   "outputs": [],
   "source": [
    "import numpy as np\n",
    "import cv2\n",
    "import matplotlib.pyplot as plt\n",
    "from pprint import pprint\n",
    "\n",
    "# import keras\n",
    "from keras.models import load_model"
   ]
  },
  {
   "cell_type": "markdown",
   "metadata": {
    "colab_type": "text",
    "id": "OwrKLCj7iDfQ"
   },
   "source": [
    "loading nn model"
   ]
  },
  {
   "cell_type": "code",
   "execution_count": 90,
   "metadata": {
    "colab": {},
    "colab_type": "code",
    "id": "Para4zzDiDfR"
   },
   "outputs": [],
   "source": [
    "# To create the training, testing and validation datasets from a single dataset.\n",
    "from sklearn.model_selection import train_test_split\n",
    "\n",
    "# To create the neural network \n",
    "from keras.models import Sequential\n",
    "\n",
    "# To add hidden layers as per requirements\n",
    "from keras.layers import Conv2D, MaxPooling2D, Flatten, Dense, Dropout\n",
    "\n",
    "# To call the \n",
    "from keras.callbacks import ModelCheckpoint"
   ]
  },
  {
   "cell_type": "code",
   "execution_count": 91,
   "metadata": {},
   "outputs": [],
   "source": [
    "from keras.optimizers import Adam\n",
    "from keras.layers import BatchNormalization\n",
    "\n",
    "adam = Adam(lr=0.001, beta_1=0.5)\n",
    "\n",
    "nn=Sequential()\n",
    "\n",
    "nn.add(Conv2D(filters=16, kernel_size=3, padding='valid', activation='relu' , input_shape = (45,45,3)))\n",
    "nn.add(BatchNormalization())\n",
    "nn.add(MaxPooling2D(pool_size=2))\n",
    "nn.add(Conv2D(filters=32, kernel_size=3, padding='same', activation='relu'))\n",
    "nn.add(BatchNormalization())\n",
    "nn.add(MaxPooling2D(pool_size=2))\n",
    "nn.add(Conv2D(filters=64, kernel_size=3, padding='same', activation='relu'))\n",
    "nn.add(BatchNormalization())\n",
    "nn.add(MaxPooling2D(pool_size=2))\n",
    "\n",
    "nn.add(Flatten())\n",
    "nn.add(Dense(500, activation='relu'))\n",
    "nn.add(Dropout(0.5))\n",
    "nn.add(Dense(23, activation='softmax'))\n",
    "\n",
    "nn.compile(loss='categorical_crossentropy',optimizer=adam,metrics=['accuracy'])\n",
    "\n",
    "#nn.summary()"
   ]
  },
  {
   "cell_type": "code",
   "execution_count": 92,
   "metadata": {
    "colab": {},
    "colab_type": "code",
    "id": "JqJ77DPQiDfX",
    "outputId": "2991b846-02d6-4c79-9530-354c63daecd2",
    "scrolled": false
   },
   "outputs": [],
   "source": [
    "nn.load_weights(r'C:\\Users\\rajneesh\\Downloads\\new project\\wt2.hdf5')"
   ]
  },
  {
   "cell_type": "markdown",
   "metadata": {
    "colab_type": "text",
    "id": "xW_OkDIbiDff"
   },
   "source": [
    "# Run"
   ]
  },
  {
   "cell_type": "code",
   "execution_count": 167,
   "metadata": {
    "colab": {},
    "colab_type": "code",
    "id": "-iCTfxqqiDfg"
   },
   "outputs": [],
   "source": [
    "im=cv2.imread(r\"C:\\Users\\rajneesh\\Downloads\\new project\\test19.jpg\")\n",
    "import detect\n",
    "obj=detect.contour_detection(im)"
   ]
  },
  {
   "cell_type": "code",
   "execution_count": 168,
   "metadata": {
    "colab": {},
    "colab_type": "code",
    "id": "XrF2ixPNiDfl"
   },
   "outputs": [],
   "source": [
    "# save images\n",
    "indx=1\n",
    "x_test=[]\n",
    "\n",
    "for row_im in obj.all_contours_img:\n",
    "    \n",
    "    #temp_arr = []\n",
    "    \n",
    "    for im in row_im:\n",
    "    \n",
    "        # save to local\n",
    "        cv2.imwrite(r\"C:/Users/rajneesh/Downloads/new project/detected/correct/\"+str(indx)+\".jpg\",im)\n",
    "\n",
    "#         # append to testing list\n",
    "#         im = cv2.resize(im,(45,45))\n",
    "#         im = [im,im,im]\n",
    "#         im = np.stack(im,axis=2)\n",
    "# #         x_test.append(im)\n",
    "#         temp_arr.append(im)\n",
    "        indx += 1\n",
    "    #print(indx)\n",
    "        \n",
    "#     x_test.append(temp_arr)\n",
    "\n",
    "# x_test=np.stack(x_test,axis=0)       "
   ]
  },
  {
   "cell_type": "code",
   "execution_count": 169,
   "metadata": {},
   "outputs": [],
   "source": [
    "labels=['0','1','2','3','4','5','6','7','8','9','a','b','c','d','y','z','+','-','x','/','=','(',')']"
   ]
  },
  {
   "cell_type": "code",
   "execution_count": 170,
   "metadata": {},
   "outputs": [],
   "source": [
    "all_exp = []\n",
    "for row_im in obj.all_contours_img :\n",
    "    string = ''\n",
    "    for im in row_im :\n",
    "        im = cv2.resize(im,(45,45))\n",
    "        im = im/255\n",
    "        a = [im,im,im]\n",
    "        a = np.stack(a,axis=2)\n",
    "        a = [a]\n",
    "        a = np.stack(a,axis=0)\n",
    "        #print(a.shape)\n",
    "        #print(np.argmax(nn.predict(a)))\n",
    "        string += labels[np.argmax(nn.predict(a))]\n",
    "    all_exp.append(string)    "
   ]
  },
  {
   "cell_type": "code",
   "execution_count": 171,
   "metadata": {},
   "outputs": [
    {
     "data": {
      "text/plain": [
       "['+z=', '']"
      ]
     },
     "execution_count": 171,
     "metadata": {},
     "output_type": "execute_result"
    }
   ],
   "source": [
    "all_exp"
   ]
  },
  {
   "cell_type": "raw",
   "metadata": {},
   "source": [
    " Working correctly only on test 8 -   3+5 ,brackets,divide2,test4,multiply,test6\n",
    " \n",
    " "
   ]
  },
  {
   "cell_type": "code",
   "execution_count": 35,
   "metadata": {
    "colab": {},
    "colab_type": "code",
    "id": "tWMMVgkDiDfo",
    "outputId": "b50bd538-b524-414d-df32-93b23b19bbcc"
   },
   "outputs": [
    {
     "ename": "AttributeError",
     "evalue": "'list' object has no attribute 'shape'",
     "output_type": "error",
     "traceback": [
      "\u001b[1;31m---------------------------------------------------------------------------\u001b[0m",
      "\u001b[1;31mAttributeError\u001b[0m                            Traceback (most recent call last)",
      "\u001b[1;32m<ipython-input-35-82162c96ad49>\u001b[0m in \u001b[0;36m<module>\u001b[1;34m()\u001b[0m\n\u001b[1;32m----> 1\u001b[1;33m \u001b[0mx_test\u001b[0m\u001b[1;33m.\u001b[0m\u001b[0mshape\u001b[0m\u001b[1;33m(\u001b[0m\u001b[1;33m)\u001b[0m\u001b[1;33m\u001b[0m\u001b[0m\n\u001b[0m",
      "\u001b[1;31mAttributeError\u001b[0m: 'list' object has no attribute 'shape'"
     ]
    }
   ],
   "source": [
    "x_test.shape()"
   ]
  },
  {
   "cell_type": "code",
   "execution_count": 0,
   "metadata": {
    "colab": {},
    "colab_type": "code",
    "id": "cnrPeCuZiDfr"
   },
   "outputs": [],
   "source": []
  },
  {
   "cell_type": "code",
   "execution_count": 19,
   "metadata": {
    "colab": {},
    "colab_type": "code",
    "id": "yUOkVdQYiDfu"
   },
   "outputs": [],
   "source": [
    "# to remove ambiguity between 'x' and '*'\n",
    "def x_mul(digits,i):\n",
    "    \n",
    "    n=len(digits)\n",
    "    \n",
    "    #valid output of nn corresponding to numbers\n",
    "    val_num=range(0,11)\n",
    "\n",
    "    if i==n-1:\n",
    "        return 'x'\n",
    "    else:\n",
    "        if (digits[i+1] in val_num) or digits[i+1]=='(':\n",
    "            return '*'\n",
    "        else:\n",
    "            return 'x'"
   ]
  },
  {
   "cell_type": "code",
   "execution_count": null,
   "metadata": {
    "colab": {},
    "colab_type": "code",
    "id": "ZHG1puHeiDfw"
   },
   "outputs": [],
   "source": []
  },
  {
   "cell_type": "code",
   "execution_count": 20,
   "metadata": {
    "colab": {},
    "colab_type": "code",
    "id": "9nPkgToniDf0"
   },
   "outputs": [],
   "source": [
    "# digitsing equation\n",
    "eq=[]\n",
    "for row in x_test:\n",
    "    result=nn.predict(row)\n",
    "    digits=result.argmax(axis=1)\n",
    "\n",
    "    temp_eq=''\n",
    "    #iterating backwards\n",
    "    n=len(digits)\n",
    "    for indx,x in enumerate(digits[::-1]):\n",
    "        if x in list(range(0,10)):\n",
    "            temp_eq+=str(x)\n",
    "        elif x==10:\n",
    "            temp_eq+=str('+')\n",
    "        elif x==11:\n",
    "            temp_eq+=str('-')\n",
    "        elif x==12 or x=='x':\n",
    "            char=str(x_mul(digits,n-indx-1))\n",
    "            temp_eq+=char\n",
    "        elif x==13:\n",
    "            temp_eq+=str('/')\n",
    "        elif x==14:\n",
    "            temp_eq+=str('(')\n",
    "        else:\n",
    "            temp_eq+=str(')')\n",
    "    temp_eq=temp_eq[::-1]\n",
    "    eq.append(temp_eq)"
   ]
  },
  {
   "cell_type": "code",
   "execution_count": 21,
   "metadata": {
    "colab": {},
    "colab_type": "code",
    "id": "tcBNmFOHiDf5",
    "outputId": "eaf69f3a-4aac-4723-9a98-39b0ad3b4050"
   },
   "outputs": [
    {
     "data": {
      "text/plain": [
       "[]"
      ]
     },
     "execution_count": 21,
     "metadata": {},
     "output_type": "execute_result"
    }
   ],
   "source": [
    "eq"
   ]
  },
  {
   "cell_type": "code",
   "execution_count": null,
   "metadata": {
    "colab": {},
    "colab_type": "code",
    "id": "4zioDyA3iDf8"
   },
   "outputs": [],
   "source": []
  },
  {
   "cell_type": "markdown",
   "metadata": {
    "colab_type": "text",
    "id": "PXqzEIu1iDf-"
   },
   "source": [
    "# Solving the equation"
   ]
  },
  {
   "cell_type": "code",
   "execution_count": 36,
   "metadata": {
    "colab": {},
    "colab_type": "code",
    "id": "FsOMFQcaiDf_"
   },
   "outputs": [],
   "source": [
    "class Stack:#creating stack class\n",
    "    def __init__(self):\n",
    "        self.items = []\n",
    "        self.topp=-1\n",
    " \n",
    "    def is_empty(self):\n",
    "        return self.items == []\n",
    " \n",
    "    def push(self, data):\n",
    "        self.items.append(data)\n",
    "        self.topp +=1\n",
    " \n",
    "    def pop(self):\n",
    "        self.topp -=1\n",
    "        return self.items.pop()\n",
    "\n",
    "    def top(self):\n",
    "        return self.items[self.topp]\n",
    "    \n",
    "def pri(st):#returns priority of operator in stack\n",
    "    if (st==\"+\"):\n",
    "        return 2\n",
    "    elif( st==\"(\"):\n",
    "        return 0\n",
    "    elif( st==\"-\"):\n",
    "        return 2\n",
    "    elif(st==\"*\"):\n",
    "        return 3\n",
    "    elif(st==\"/\"):\n",
    "        return 3\n",
    "\n",
    "def chk_pr(d1,d2):#compares priority of 2 operators\n",
    "    return (pri(d1)<=pri(d2))\n",
    "\n",
    "def oper(d1,d2,d3):#to perfor operation\n",
    "    if(d3==\"+\"):\n",
    "        return (d1+d2)\n",
    "    if(d3==\"-\"):\n",
    "        return (d1-d2)\n",
    "    if(d3==\"*\"):\n",
    "        return (d1*d2)    \n",
    "    if(d3==\"/\"):\n",
    "        return (d1/d2)\n",
    "\n",
    "\n",
    "def solve(exp):#to solve the expression. takes list of string with \"(\" and \")\" at start and end respectively\n",
    "    s = Stack()#strng = input()\n",
    "    pexp=[]#postfix epression\n",
    "    a=\"\"\n",
    "    for i in exp:#converting expression into postfix\n",
    "        if (i==\"(\"):\n",
    "            s.push(i)\n",
    "        elif (i.isdigit() or (len(i)>1 and i[1].isdigit())):\n",
    "            pexp.append(i)\n",
    "        elif (i==\")\"):\n",
    "            a=s.pop()\n",
    "            while(a!=\"(\"):\n",
    "                pexp.append(a)\n",
    "                a=s.pop()\n",
    "        elif (i in \"+-*/\"):\n",
    "            if (chk_pr(i,s.top())):\n",
    "                while (chk_pr(i,s.top())):\n",
    "                    pexp.append(s.pop())\n",
    "            s.push(i)\n",
    "    d1=0\n",
    "    d2=0\n",
    "    for i in pexp:#evaluating postfix expression\n",
    "        if(i.isdigit() or (len(i)>1 and i[1].isdigit())):\n",
    "            s.push(i)\n",
    "        else:\n",
    "            d1=s.pop()\n",
    "            d2=s.pop()\n",
    "            s.push(oper(int(d2),int(d1),i))\n",
    "    return(s.pop())#returning solution of expression from the stack\n",
    "\n",
    "\n",
    "def solver_main(exp):#call this for solving equation.It will automatically call other functions.It decides whether to solve equation or return true/false and calls solve()to solve the equations.\n",
    "    \n",
    "    exp.insert(0,\"(\")#inserting ( at the begining of expression\n",
    "    exp.append(\")\")#inserting ) at the end of expression\n",
    "\n",
    "    z=0#to check for = and default is no =\n",
    "    f=0\n",
    "    exp1=[]#for dividing into 2 expressions when there is an = sign in expression\n",
    "    exp2=[]\n",
    "    x=0#to save results of 2 expressions\n",
    "    y=0\n",
    "\n",
    "    for i in range(3,len(exp)-1):#check for right side of = sign. if nothing then z=0 otherwise z=1. i is starting from 3 for condition when = sign is at start\n",
    "        if (((exp[i].isdigit() or (len(exp[i])>1 and exp[i][1].isdigit())) or exp[i]==\"(\") and exp[i-1]==\"=\"):\n",
    "            z=1\n",
    "        \n",
    "\n",
    "    if (z==1):\n",
    "        for i in exp:#splitting expression into 2 expressions when there is an = sign\n",
    "            if(i==\"=\"):\n",
    "                f=1\n",
    "                exp1.append(\")\")#ending expression 1\n",
    "                exp2.append(\"(\")#starting expression 2\n",
    "                continue\n",
    "            if(f==0):\n",
    "                exp1.append(i)\n",
    "            else:\n",
    "                exp2.append(i)\n",
    "        x=solve(exp1)#solving both expressions separating exp individually\n",
    "        y=solve(exp2)\n",
    "        \n",
    "        if(int(x)==int(y)):#checking for equality\n",
    "            print (\"TRUE\")\n",
    "        else:\n",
    "            print(\"FALSE\")\n",
    "\n",
    "    else:\n",
    "        print(solve(exp))"
   ]
  },
  {
   "cell_type": "code",
   "execution_count": 23,
   "metadata": {
    "colab": {},
    "colab_type": "code",
    "id": "ilVLfFy-iDgC"
   },
   "outputs": [],
   "source": [
    "# Returns True if the input paramater is an operator, otherwise returns False.\n",
    "def isOperator(x) :\n",
    "    op = ['+' , '-' , '*' , '/' , '=','(',')']\n",
    "    if x in op :\n",
    "        return True\n",
    "    else :\n",
    "        return False            \n",
    "\n",
    "# Returns a list that contains the expression. Each item in the list is either an\n",
    "# operator or an operand .\n",
    "def createExpression(eq) :\n",
    "    \n",
    "    exp_list = []\n",
    "    buffer = ''\n",
    "    \n",
    "    for e in range(len(eq)) :\n",
    "        \n",
    "        if isOperator(eq[e]) :\n",
    "            if e == 0 :\n",
    "                exp_list.append(eq[e])\n",
    "            else :\n",
    "                exp_list.append(buffer)\n",
    "                exp_list.append(eq[e])\n",
    "            buffer = ''\n",
    "        \n",
    "        else :\n",
    "            buffer += eq[e]\n",
    "        #print(buffer)\n",
    "    exp_list.append(buffer)\n",
    "    \n",
    "        \n",
    "    if exp_list[0] == '-' :#to remove - sign at the start when number is next\n",
    "        exp_list.pop(0)\n",
    "        exp_list[0] = '-'+exp_list[0]\n",
    "    \n",
    "    while '' in exp_list :#remove empty strings\n",
    "        exp_list.remove('')\n",
    "        \n",
    "    if(exp_list[0]=='-' and exp_list[1]=='('):#To remove - sign at the start when ( is next\n",
    "        i=2\n",
    "        while (exp_list[i]!=')'):\n",
    "            if(exp_list[i].isdigit() or (len(exp_list[i])>1 and exp_list[i][1].isdigit())):\n",
    "                exp_list[i]=str(int(exp_list[i])*(-1))\n",
    "            i+=1\n",
    "        exp_list.pop(0) \n",
    "        \n",
    "    a=len(exp_list)-1#To remove - sign when ( is before it\n",
    "    i=1\n",
    "    while(i<a):\n",
    "        if (exp_list[i]=='-' and exp_list[i-1]=='('):\n",
    "            exp_list[i+1]=str(int(exp_list[i+1])*(-1))\n",
    "            exp_list.pop(i)\n",
    "            a-=1\n",
    "        i+=1\n",
    "    return exp_list        "
   ]
  },
  {
   "cell_type": "code",
   "execution_count": 37,
   "metadata": {
    "colab": {},
    "colab_type": "code",
    "id": "S5-_S6TdiDgE",
    "outputId": "21a21dd6-4129-47cf-fe17-ff4b9e3df29d"
   },
   "outputs": [],
   "source": [
    "for i in eq:\n",
    "    solver_main(createExpression(i))"
   ]
  },
  {
   "cell_type": "code",
   "execution_count": null,
   "metadata": {
    "colab": {},
    "colab_type": "code",
    "id": "K9Lo5nw0iDgI"
   },
   "outputs": [],
   "source": []
  },
  {
   "cell_type": "markdown",
   "metadata": {
    "colab_type": "text",
    "id": "Ai2pce9BiDgN"
   },
   "source": [
    "# solve linear eq"
   ]
  },
  {
   "cell_type": "code",
   "execution_count": 25,
   "metadata": {
    "colab": {},
    "colab_type": "code",
    "id": "L75HLBxAiDgO"
   },
   "outputs": [],
   "source": [
    "def isOperator(x) :\n",
    "    if x in['+','-','*','/'] :\n",
    "        return True\n",
    "    else :\n",
    "        return False\n",
    "    \n",
    "def coefficients(eq) :\n",
    "    buffer = ''\n",
    "    sign = 1\n",
    "    # Using zz as the key for constant \n",
    "    coeff = {'zz':0}\n",
    "    \n",
    "    for e in eq :\n",
    "        # We need variables to be on the left hand side of the '=', so the coefficients right to the '='\n",
    "        # has to be negative\n",
    "        if e == '=' :\n",
    "            sign = -1\n",
    "            # If a constant is just before the '=' we need to store it in the coefficient sum\n",
    "            if buffer != '' :\n",
    "                coeff['zz'] += int(buffer)\n",
    "                buffer = ''\n",
    "            #print('=')\n",
    "            continue\n",
    "        \n",
    "        # If variable is encountered\n",
    "        if e.isalpha() : \n",
    "            # If buffer is empty, it means its coefficient is 1.\n",
    "            if buffer == '' :\n",
    "                val = 1\n",
    "            else :\n",
    "                # If buffer is '-' or '+', it means the coefficient is 1. \n",
    "                if isOperator(buffer) :\n",
    "                    buffer += '1'\n",
    "                val = sign*int(buffer)\n",
    "            # If the variable is encountered first time   \n",
    "            if e not in coeff.keys() :\n",
    "                coeff[e] = val\n",
    "            # If the variable is encountered again    \n",
    "            else :\n",
    "                coeff[e] += val\n",
    "            buffer = ''    \n",
    "        # If a digit or an operator is encountered\n",
    "        else :\n",
    "            # Operator is encountered and buffer is empty\n",
    "            if isOperator(e) and buffer == '' :\n",
    "                buffer += e\n",
    "            # A digit is encountered    \n",
    "            elif not isOperator(e) :\n",
    "                buffer += e\n",
    "            # An operator is encountered and buffer is not empty    \n",
    "            elif isOperator(e) and buffer != '' :\n",
    "                coeff['zz'] += sign*int(buffer)\n",
    "                buffer = e\n",
    "        #print(e , coeff , buffer)    \n",
    "    \n",
    "    # We need the constant term on the right side of '='\n",
    "    coeff['zz'] *= -1\n",
    "    coeff['zz'] += int(buffer)\n",
    "    \n",
    "    #print(buffer)\n",
    "    return coeff"
   ]
  },
  {
   "cell_type": "code",
   "execution_count": 26,
   "metadata": {
    "colab": {},
    "colab_type": "code",
    "id": "MmCLGSyZiDgV"
   },
   "outputs": [],
   "source": [
    "# Takes a list of dictionary as an input and returns the solution in a numpy array as [x_sol , y_sol , ...]. \n",
    "\n",
    "# coeffs is list of dictionaries containing the coefficients\n",
    "def solveLinearEq(coeffs) :\n",
    "    \n",
    "    var = []\n",
    "    const = []\n",
    "    \n",
    "    for i in range(len(coeffs)) :\n",
    "        all_coeffs = list(coeffs[i].keys())\n",
    "        all_coeffs.sort()\n",
    "        #print(all_coeffs , type(all_coeffs))\n",
    "        temp = []\n",
    "        for j in range(len(all_coeffs)-1) : \n",
    "            #print('#'*10)\n",
    "            #print(j , all_coeffs[j])\n",
    "            temp.append(coeffs[i][all_coeffs[j]])\n",
    "        var.append(temp)\n",
    "        const.append(coeffs[i][all_coeffs[-1]])\n",
    "        \n",
    "    ab = np.array(var)\n",
    "    c = np.array(const)\n",
    "\n",
    "    sol = np.linalg.solve(ab , c)\n",
    "\n",
    "    return sol"
   ]
  },
  {
   "cell_type": "code",
   "execution_count": 27,
   "metadata": {
    "colab": {},
    "colab_type": "code",
    "id": "H6NrtE2aiDgZ"
   },
   "outputs": [
    {
     "data": {
      "text/plain": [
       "array([ 0.,  0., -0.])"
      ]
     },
     "execution_count": 27,
     "metadata": {},
     "output_type": "execute_result"
    }
   ],
   "source": [
    "import numpy as np\n",
    "\n",
    "a = [coefficients('x-y+z=0'),coefficients('x+y+z=0'),coefficients('x-y-z=0')]\n",
    "solveLinearEq(a)"
   ]
  },
  {
   "cell_type": "code",
   "execution_count": null,
   "metadata": {},
   "outputs": [],
   "source": []
  },
  {
   "cell_type": "code",
   "execution_count": null,
   "metadata": {},
   "outputs": [],
   "source": []
  },
  {
   "cell_type": "code",
   "execution_count": null,
   "metadata": {},
   "outputs": [],
   "source": []
  }
 ],
 "metadata": {
  "colab": {
   "name": "Complete.ipynb",
   "provenance": []
  },
  "kernelspec": {
   "display_name": "Python 3",
   "language": "python",
   "name": "python3"
  },
  "language_info": {
   "codemirror_mode": {
    "name": "ipython",
    "version": 3
   },
   "file_extension": ".py",
   "mimetype": "text/x-python",
   "name": "python",
   "nbconvert_exporter": "python",
   "pygments_lexer": "ipython3",
   "version": "3.6.5"
  }
 },
 "nbformat": 4,
 "nbformat_minor": 1
}
